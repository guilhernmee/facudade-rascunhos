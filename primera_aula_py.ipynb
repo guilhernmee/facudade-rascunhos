{
  "nbformat": 4,
  "nbformat_minor": 0,
  "metadata": {
    "colab": {
      "provenance": [],
      "authorship_tag": "ABX9TyOwnyLeokcHGPrx2nDXveyR",
      "include_colab_link": true
    },
    "kernelspec": {
      "name": "python3",
      "display_name": "Python 3"
    },
    "language_info": {
      "name": "python"
    }
  },
  "cells": [
    {
      "cell_type": "markdown",
      "metadata": {
        "id": "view-in-github",
        "colab_type": "text"
      },
      "source": [
        "<a href=\"https://colab.research.google.com/github/kurtbobalhao/facudadebixokk/blob/main/primera_aula_py.ipynb\" target=\"_parent\"><img src=\"https://colab.research.google.com/assets/colab-badge.svg\" alt=\"Open In Colab\"/></a>"
      ]
    },
    {
      "cell_type": "code",
      "execution_count": 2,
      "metadata": {
        "colab": {
          "base_uri": "https://localhost:8080/"
        },
        "id": "4pg71TqhRbMJ",
        "outputId": "2b0e83b4-edd1-41b9-dcd3-0735ab58d19c"
      },
      "outputs": [
        {
          "output_type": "stream",
          "name": "stdout",
          "text": [
            "Digite sua idade em anos 18\n",
            "Sua idade em dias é: 6570\n"
          ]
        }
      ],
      "source": [
        "idade = int(input(\"Digite sua idade em anos \"))\n",
        "#input(\"mensagem\") → mostra uma mensagem e espera o usuário digitar algo.\n",
        "#int(...) → transforma o que foi digitado em número inteiro.\n",
        "#idade = → guarda esse número numa variável chamada idade.\n",
        "\n",
        "dias = idade * 365\n",
        "#Pega o valor guardado na variável idade\n",
        "#Multiplica por 365 (dias de um ano)\n",
        "#Guarda o resultado na variável dias\n",
        "\n",
        "print(f\"Sua idade em dias é: {dias}\")\n",
        "#Mostra a mensagem com o resultado.\n",
        "#Esse f\"\" é uma f-string, serve pra colocar variáveis dentro do texto.\n",
        "#{dias} pega o valor guardado na variável e coloca dentro da mensagem.\n"
      ]
    },
    {
      "cell_type": "code",
      "source": [
        "# Obter a idade em anos, meses e dias, e informar a idade total em dias\n",
        "# Considerando 1 ano = 365 dias e 1 mês = 30 dias\n",
        "\n",
        "anos = int(input(\"Digite sua idade (anos): \"))\n",
        "meses = int(input(\"Digite os meses: \"))\n",
        "dias = int(input(\"Digite os dias: \"))\n",
        "\n",
        "total_dias = (anos * 365) + (meses * 30) + dias #aq ele so fez a multiplicacao e somou os resultados\n",
        "\n",
        "print(f\"Sua idade em dias é: {total_dias}\")"
      ],
      "metadata": {
        "colab": {
          "base_uri": "https://localhost:8080/"
        },
        "id": "XvikLTeYY-cr",
        "outputId": "9de7ad10-1c17-4519-dc28-a3c9eac5d0e4"
      },
      "execution_count": 4,
      "outputs": [
        {
          "output_type": "stream",
          "name": "stdout",
          "text": [
            "Digite sua idade (anos): 18\n",
            "Digite os meses: 8\n",
            "Digite os dias: 258\n",
            "Sua idade em dias é: 7068\n"
          ]
        }
      ]
    },
    {
      "cell_type": "code",
      "source": [
        "# EXERCÍCIO 3\n",
        "# Obter um valor em segundos e informar a quantos dias, horas, minutos e segundos equivale\n",
        "\n",
        "segundos = int(input(\"Digite o tempo em segundos: \"))\n",
        "dias = segundos // 86400\n",
        "segundos = segundos % 86400 #O símbolo % em Python é chamado de operador modulo. Ele retorna o resto da divisão do operando da esquerda pelo operando da direita\n",
        "horas = segundos // 3600\n",
        "segundos = segundos % 3600\n",
        "minutos = segundos // 60\n",
        "segundos = segundos % 60\n",
        "\n",
        "print(f\"{dias} dias, {horas} horas, {minutos} minutos e {segundos} segundos.\")\n"
      ],
      "metadata": {
        "colab": {
          "base_uri": "https://localhost:8080/"
        },
        "id": "9oGR9xJ3aVLP",
        "outputId": "0ef4b0c8-d4df-4997-f407-181d6fa836da"
      },
      "execution_count": 5,
      "outputs": [
        {
          "output_type": "stream",
          "name": "stdout",
          "text": [
            "Digite o tempo em segundos: 8600\n",
            "0 dias, 2 horas, 23 minutos e 20 segundos.\n"
          ]
        }
      ]
    },
    {
      "cell_type": "code",
      "source": [
        "\n",
        "\n",
        "# EXERCÍCIO 4\n",
        "# Calcular percentual de votos válidos e percentual da soma de votos brancos e nulostotal = int(input(\"Digite o total de eleitores: \"))\n",
        "brancos = int(input(\"Digite o número de votos brancos: \"))\n",
        "nulos = int(input(\"Digite o número de votos nulos: \"))\n",
        "\n",
        "validos = total - brancos - nulos\n",
        "percentual_validos = (validos / total) * 100\n",
        "percentual_brancos_nulos = ((brancos + nulos) / total) * 100\n",
        "\n",
        "print(f\"Percentual de votos válidos: {percentual_validos:.2f}%\")\n",
        "print(f\"Percentual de brancos e nulos: {percentual_brancos_nulos:.2f}%\")\n",
        "\n",
        "#:.2f → esse pedaço diz que você quer mostrar o número com duas casas decimais, como em \"83.33\".\n",
        "#: → inicia a formatação\n",
        "#.2 → duas casas\n",
        "#f → número do tipo float\n",
        "\n",
        "\n"
      ],
      "metadata": {
        "colab": {
          "base_uri": "https://localhost:8080/"
        },
        "id": "L1E8y1Cea_AI",
        "outputId": "cfb1602f-78ef-4be6-a984-d9c6459e8905"
      },
      "execution_count": 6,
      "outputs": [
        {
          "output_type": "stream",
          "name": "stdout",
          "text": [
            "Digite o total de eleitores: 100\n",
            "Digite o número de votos brancos: 20\n",
            "Digite o número de votos nulos: 10\n",
            "Percentual de votos válidos: 70.00%\n",
            "Percentual de brancos e nulos: 30.00%\n"
          ]
        }
      ]
    },
    {
      "cell_type": "code",
      "source": [
        "# EXERCÍCIO 5\n",
        "# Calcular duração de uma partida no mesmo dia (hora e minuto)\n",
        "\n",
        "h_inicio = int(input(\"Digite a hora de início: \"))\n",
        "m_inicio = int(input(\"Digite os minutos de início: \"))\n",
        "h_fim = int(input(\"Digite a hora de fim: \"))\n",
        "m_fim = int(input(\"Digite os minutos de fim: \"))\n",
        "\n",
        "inico_min = h_inicio * 60 + m_inicio\n",
        "fim_min = h_fim * 60 + m_fim\n",
        "duracao = fim_min - inico_min\n",
        "\n",
        "horas = duracao // 60\n",
        "minutos = duracao % 60\n",
        "\n",
        "print(f\"A duração do jogo foi de {horas} horas e {minutos} minutos.\")"
      ],
      "metadata": {
        "colab": {
          "base_uri": "https://localhost:8080/"
        },
        "id": "Bd-X6xCIcJDx",
        "outputId": "a85e81bf-8fdc-469b-945c-95119d56872e"
      },
      "execution_count": 8,
      "outputs": [
        {
          "output_type": "stream",
          "name": "stdout",
          "text": [
            "Digite a hora de início: 18\n",
            "Digite os minutos de início: 50\n",
            "Digite a hora de fim: 20\n",
            "Digite os minutos de fim: 45\n",
            "A duração do jogo foi de 1 horas e 55 minutos.\n"
          ]
        }
      ]
    },
    {
      "cell_type": "code",
      "source": [
        "\n",
        "# EXERCÍCIO 6\n",
        "# Calcular duração de uma partida que termina no dia seguinteh_inicio = int(input(\"Digite a hora de início: \"))\n",
        "m_inicio = int(input(\"Digite os minutos de início: \"))\n",
        "h_fim = int(input(\"Digite a hora de fim: \"))\n",
        "m_fim = int(input(\"Digite os minutos de fim: \"))\n",
        "\n",
        "inico_min = h_inicio * 60 + m_inicio\n",
        "fim_min = h_fim * 60 + m_fim\n",
        "\n",
        "if fim_min < inico_min:\n",
        "  fim_min += 24 * 60 # adiciona 24h em minutos\n",
        "\n",
        "duracao = fim_min - inico_min\n",
        "\n",
        "horas = duracao // 60\n",
        "minutos = duracao % 60\n",
        "\n",
        "print(f\"A duração do jogo foi de {horas} horas e {minutos} minutos.\")\n",
        "\n"
      ],
      "metadata": {
        "colab": {
          "base_uri": "https://localhost:8080/"
        },
        "id": "lDiYCBChc-Lk",
        "outputId": "fca172a1-34d4-4ed8-f309-a6506ea2adf5"
      },
      "execution_count": 10,
      "outputs": [
        {
          "output_type": "stream",
          "name": "stdout",
          "text": [
            "Digite a hora de início: 22\n",
            "Digite os minutos de início: 00\n",
            "Digite a hora de fim: 00\n",
            "Digite os minutos de fim: 50\n",
            "A duração do jogo foi de 2 horas e 50 minutos.\n"
          ]
        }
      ]
    },
    {
      "cell_type": "code",
      "source": [
        "celsius = float(input(\"Digite a temperatura em Celsius: \"))\n",
        "#O float() converte o valor que o usuário digita para um número com ponto decimal.\n",
        "#.1f → significa que o número será mostrado com 1 casa decimal (exemplo: 98.6).\n",
        "celsius = (celsius * 9/5) + 32\n",
        "print(f\"A temperatura em Fahrenheit é: {celsius:.1f}\")\n",
        "\n",
        "#celsius * 9/5 Você pega o valor digitado em graus Celsius (por exemplo, 20).\n",
        "#Multiplica por 9/5, que dá 1.8.\n",
        "#Então 20 × 1.8 = 36\n",
        "# + 32\n",
        "#Depois você soma 32, que é uma constante usada na fórmula de conversão.\n",
        "\n",
        "\n"
      ],
      "metadata": {
        "colab": {
          "base_uri": "https://localhost:8080/"
        },
        "id": "pM0hlrIMd9iB",
        "outputId": "3744a618-f986-44fe-edd7-d94897142009"
      },
      "execution_count": 12,
      "outputs": [
        {
          "output_type": "stream",
          "name": "stdout",
          "text": [
            "Digite a temperatura em Celsius: 30.5\n",
            "A temperatura em Fahrenheit é: 86.9\n"
          ]
        }
      ]
    },
    {
      "cell_type": "code",
      "source": [
        "# Calcular a data da Páscoa (algoritmo de Meeus-Jones-Butcher)\n",
        "\n",
        "ano = int(input(\"Digite o ano: \"))  # Entrada do ano\n",
        "a = ano % 19  # Resto da divisão por 19 (ciclo lunar)\n",
        "b = ano // 100  # Século (parte inteira)\n",
        "c = ano % 100  # Ano dentro do século\n",
        "d = b // 4  # Parte inteira da divisão do século por 4\n",
        "e = b % 4  # Resto da divisão do século por 4\n",
        "f = (b + 8) // 25  # Ajuste baseado no calendário gregoriano\n",
        "g = (b - f + 1) // 3  # Outro ajuste\n",
        "h = (19 * a + b - d - g + 15) % 30  # Cálculo da idade lunar\n",
        "i = c // 4  # Divide ano do século por 4\n",
        "k = c % 4  # Resto da divisão\n",
        "l = (32 + 2 * e + 2 * i - h - k) % 7  # Determina o dia da semana\n",
        "m = (a + 11 * h + 22 * l) // 451  # Ajuste final do cálculo\n",
        "mes = (h + l - 7 * m + 114) // 31  # Calcula o mês (3 = março, 4 = abril)\n",
        "dia = ((h + l - 7 * m + 114) % 31) + 1  # Calcula o dia exato\n",
        "\n",
        "print(f\"A Páscoa em {ano} será em {dia}/{mes}\")  # Mostra resultado final"
      ],
      "metadata": {
        "colab": {
          "base_uri": "https://localhost:8080/"
        },
        "id": "UAZyDm_Ue3wG",
        "outputId": "b1201253-47f5-43c9-d151-4a0f61af3468"
      },
      "execution_count": 13,
      "outputs": [
        {
          "output_type": "stream",
          "name": "stdout",
          "text": [
            "Digite o ano: 2025\n",
            "A Páscoa em 2025 será em 20/4\n"
          ]
        }
      ]
    }
  ]
}