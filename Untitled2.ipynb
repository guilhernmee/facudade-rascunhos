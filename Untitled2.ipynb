{
  "nbformat": 4,
  "nbformat_minor": 0,
  "metadata": {
    "colab": {
      "provenance": [],
      "authorship_tag": "ABX9TyMFYGDdt8OVM0+kaqcfhvN6",
      "include_colab_link": true
    },
    "kernelspec": {
      "name": "python3",
      "display_name": "Python 3"
    },
    "language_info": {
      "name": "python"
    }
  },
  "cells": [
    {
      "cell_type": "markdown",
      "metadata": {
        "id": "view-in-github",
        "colab_type": "text"
      },
      "source": [
        "<a href=\"https://colab.research.google.com/github/kurtbobalhao/facudadebixokk/blob/main/Untitled2.ipynb\" target=\"_parent\"><img src=\"https://colab.research.google.com/assets/colab-badge.svg\" alt=\"Open In Colab\"/></a>"
      ]
    },
    {
      "cell_type": "code",
      "execution_count": null,
      "metadata": {
        "colab": {
          "base_uri": "https://localhost:8080/"
        },
        "id": "hikByN8lWt7N",
        "outputId": "f3d1e785-8bad-4e9e-c15d-1f1c366e0b92"
      },
      "outputs": [
        {
          "output_type": "stream",
          "name": "stdout",
          "text": [
            "[6, 8, 10, 20]\n"
          ]
        }
      ],
      "source": [
        "A=[3, 4, 5, 10]\n",
        "soma1 = list()\n",
        "for i in A:\n",
        "  #soma1 = soma1 + [i+i]\n",
        "  soma1.append(i+i)\n",
        "print (soma1)\n",
        "#soma1"
      ]
    },
    {
      "cell_type": "code",
      "source": [
        "A = [0, 0, 5, 3, 2, 7, 4, 10, 4, 7]\n",
        "N = list()\n",
        "for in A:\n",
        "  if(%) = 0:\n",
        "    N+= [i*i] # N = N + [i*i]\n",
        "print (\"valor da lista N\")"
      ],
      "metadata": {
        "id": "zIBCe9yVgW2x"
      },
      "execution_count": null,
      "outputs": []
    },
    {
      "cell_type": "code",
      "source": [],
      "metadata": {
        "id": "EOOUxG6Skcdy"
      },
      "execution_count": null,
      "outputs": []
    },
    {
      "cell_type": "code",
      "source": [],
      "metadata": {
        "id": "Gt7N6sU7kcya"
      },
      "execution_count": null,
      "outputs": []
    }
  ]
}